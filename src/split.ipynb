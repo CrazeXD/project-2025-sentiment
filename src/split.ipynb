{
 "cells": [
  {
   "cell_type": "code",
   "execution_count": 1,
   "metadata": {},
   "outputs": [],
   "source": [
    "# Imports\n",
    "from pypdf import PdfReader"
   ]
  },
  {
   "cell_type": "code",
   "execution_count": 3,
   "metadata": {},
   "outputs": [],
   "source": [
    "reader = PdfReader('Z:/project-2025-sentiment/data/project-2025.pdf')"
   ]
  },
  {
   "cell_type": "code",
   "execution_count": 11,
   "metadata": {},
   "outputs": [],
   "source": [
    "pages = list(reader.pages[12:15]) + list(reader.pages[32:880])\n",
    "\n",
    "for index, page in enumerate(pages):\n",
    "    with open(f'Z:/project-2025-sentiment/data/split/page_{index}.txt', 'w+') as f:\n",
    "        f.write(page.extract_text())\n"
   ]
  }
 ],
 "metadata": {
  "kernelspec": {
   "display_name": "project2025-sentiment",
   "language": "python",
   "name": "python3"
  },
  "language_info": {
   "codemirror_mode": {
    "name": "ipython",
    "version": 3
   },
   "file_extension": ".py",
   "mimetype": "text/x-python",
   "name": "python",
   "nbconvert_exporter": "python",
   "pygments_lexer": "ipython3",
   "version": "3.12.4"
  }
 },
 "nbformat": 4,
 "nbformat_minor": 2
}
